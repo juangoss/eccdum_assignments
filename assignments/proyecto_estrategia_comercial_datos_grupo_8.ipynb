{
  "nbformat": 4,
  "nbformat_minor": 0,
  "metadata": {
    "colab": {
      "provenance": [],
      "gpuType": "T4",
      "authorship_tag": "ABX9TyPiOeU3bUz5bn33PI8T4wzn",
      "include_colab_link": true
    },
    "kernelspec": {
      "name": "python3",
      "display_name": "Python 3"
    },
    "language_info": {
      "name": "python"
    },
    "accelerator": "GPU"
  },
  "cells": [
    {
      "cell_type": "markdown",
      "metadata": {
        "id": "view-in-github",
        "colab_type": "text"
      },
      "source": [
        "<a href=\"https://colab.research.google.com/github/juangoss/eccdum_assignments/blob/main/assignments/proyecto_estrategia_comercial_datos_grupo_8.ipynb\" target=\"_parent\"><img src=\"https://colab.research.google.com/assets/colab-badge.svg\" alt=\"Open In Colab\"/></a>"
      ]
    },
    {
      "cell_type": "markdown",
      "source": [
        "# Proyecto Estrategia Comercial con Datos\n",
        "\n",
        "### Grupo 8: Martina Supatto y Juan Andrés Gossweiler"
      ],
      "metadata": {
        "id": "4o63s3Nc-gZE"
      }
    },
    {
      "cell_type": "code",
      "source": [
        "!pip install -q eccd_datasets"
      ],
      "metadata": {
        "id": "xFNXutaX_XqW"
      },
      "execution_count": 1,
      "outputs": []
    },
    {
      "cell_type": "code",
      "source": [
        "#import libraries\n",
        "import io\n",
        "import numpy as np\n",
        "import matplotlib.pyplot as plt\n",
        "import pandas as pd\n",
        "import requests\n",
        "from sklearn.preprocessing import LabelEncoder\n",
        "import torch\n",
        "import torchvision.transforms.v2 as transforms\n",
        "import torch.backends.cudnn as cudnn\n",
        "from torchvision import datasets, models, transforms\n",
        "import torch.nn as nn\n",
        "import torch.optim as optim\n",
        "from torch.optim import lr_scheduler\n",
        "\n",
        "from eccd_datasets import load_images\n",
        "from PIL import Image\n",
        "from torchvision import models\n",
        "from tempfile import TemporaryDirectory\n",
        "import time\n",
        "import os\n",
        "\n",
        "torch.manual_seed(42)"
      ],
      "metadata": {
        "colab": {
          "base_uri": "https://localhost:8080/"
        },
        "id": "B7s_fXX--gBo",
        "outputId": "a05402d4-857f-4c7e-8d4a-1ada6c6dccf9"
      },
      "execution_count": 2,
      "outputs": [
        {
          "output_type": "execute_result",
          "data": {
            "text/plain": [
              "<torch._C.Generator at 0x7b0750723870>"
            ]
          },
          "metadata": {},
          "execution_count": 2
        }
      ]
    },
    {
      "cell_type": "markdown",
      "source": [
        "## Obtener banco de imágenes de frutas y verduras"
      ],
      "metadata": {
        "id": "Mmy2azf9Azw7"
      }
    },
    {
      "cell_type": "code",
      "source": [
        "df_images = load_images()\n",
        "df_images.head()"
      ],
      "metadata": {
        "colab": {
          "base_uri": "https://localhost:8080/",
          "height": 206
        },
        "id": "jWc26PDp_tAa",
        "outputId": "86c87515-8ba3-4873-88d5-c7c6a845c22d"
      },
      "execution_count": 3,
      "outputs": [
        {
          "output_type": "execute_result",
          "data": {
            "text/plain": [
              "  dataset coarse_cat   finegrained_cat  \\\n",
              "0   train      Apple  Golden-Delicious   \n",
              "1   train      Apple  Golden-Delicious   \n",
              "2   train      Apple  Golden-Delicious   \n",
              "3   train      Apple  Golden-Delicious   \n",
              "4   train      Apple  Golden-Delicious   \n",
              "\n",
              "                                          image_data  \n",
              "0  b'\\xff\\xd8\\xff\\xe0\\x00\\x10JFIF\\x00\\x01\\x01\\x00...  \n",
              "1  b'\\xff\\xd8\\xff\\xe0\\x00\\x10JFIF\\x00\\x01\\x01\\x00...  \n",
              "2  b'\\xff\\xd8\\xff\\xe0\\x00\\x10JFIF\\x00\\x01\\x01\\x00...  \n",
              "3  b'\\xff\\xd8\\xff\\xe0\\x00\\x10JFIF\\x00\\x01\\x01\\x00...  \n",
              "4  b'\\xff\\xd8\\xff\\xe0\\x00\\x10JFIF\\x00\\x01\\x01\\x00...  "
            ],
            "text/html": [
              "\n",
              "  <div id=\"df-64874b44-8691-49b8-8d6d-9f54fcb6ce86\" class=\"colab-df-container\">\n",
              "    <div>\n",
              "<style scoped>\n",
              "    .dataframe tbody tr th:only-of-type {\n",
              "        vertical-align: middle;\n",
              "    }\n",
              "\n",
              "    .dataframe tbody tr th {\n",
              "        vertical-align: top;\n",
              "    }\n",
              "\n",
              "    .dataframe thead th {\n",
              "        text-align: right;\n",
              "    }\n",
              "</style>\n",
              "<table border=\"1\" class=\"dataframe\">\n",
              "  <thead>\n",
              "    <tr style=\"text-align: right;\">\n",
              "      <th></th>\n",
              "      <th>dataset</th>\n",
              "      <th>coarse_cat</th>\n",
              "      <th>finegrained_cat</th>\n",
              "      <th>image_data</th>\n",
              "    </tr>\n",
              "  </thead>\n",
              "  <tbody>\n",
              "    <tr>\n",
              "      <th>0</th>\n",
              "      <td>train</td>\n",
              "      <td>Apple</td>\n",
              "      <td>Golden-Delicious</td>\n",
              "      <td>b'\\xff\\xd8\\xff\\xe0\\x00\\x10JFIF\\x00\\x01\\x01\\x00...</td>\n",
              "    </tr>\n",
              "    <tr>\n",
              "      <th>1</th>\n",
              "      <td>train</td>\n",
              "      <td>Apple</td>\n",
              "      <td>Golden-Delicious</td>\n",
              "      <td>b'\\xff\\xd8\\xff\\xe0\\x00\\x10JFIF\\x00\\x01\\x01\\x00...</td>\n",
              "    </tr>\n",
              "    <tr>\n",
              "      <th>2</th>\n",
              "      <td>train</td>\n",
              "      <td>Apple</td>\n",
              "      <td>Golden-Delicious</td>\n",
              "      <td>b'\\xff\\xd8\\xff\\xe0\\x00\\x10JFIF\\x00\\x01\\x01\\x00...</td>\n",
              "    </tr>\n",
              "    <tr>\n",
              "      <th>3</th>\n",
              "      <td>train</td>\n",
              "      <td>Apple</td>\n",
              "      <td>Golden-Delicious</td>\n",
              "      <td>b'\\xff\\xd8\\xff\\xe0\\x00\\x10JFIF\\x00\\x01\\x01\\x00...</td>\n",
              "    </tr>\n",
              "    <tr>\n",
              "      <th>4</th>\n",
              "      <td>train</td>\n",
              "      <td>Apple</td>\n",
              "      <td>Golden-Delicious</td>\n",
              "      <td>b'\\xff\\xd8\\xff\\xe0\\x00\\x10JFIF\\x00\\x01\\x01\\x00...</td>\n",
              "    </tr>\n",
              "  </tbody>\n",
              "</table>\n",
              "</div>\n",
              "    <div class=\"colab-df-buttons\">\n",
              "      \n",
              "  <div class=\"colab-df-container\">\n",
              "    <button class=\"colab-df-convert\" onclick=\"convertToInteractive('df-64874b44-8691-49b8-8d6d-9f54fcb6ce86')\"\n",
              "            title=\"Convert this dataframe to an interactive table.\"\n",
              "            style=\"display:none;\">\n",
              "      \n",
              "  <svg xmlns=\"http://www.w3.org/2000/svg\" height=\"24px\" viewBox=\"0 -960 960 960\">\n",
              "    <path d=\"M120-120v-720h720v720H120Zm60-500h600v-160H180v160Zm220 220h160v-160H400v160Zm0 220h160v-160H400v160ZM180-400h160v-160H180v160Zm440 0h160v-160H620v160ZM180-180h160v-160H180v160Zm440 0h160v-160H620v160Z\"/>\n",
              "  </svg>\n",
              "    </button>\n",
              "    \n",
              "  <style>\n",
              "    .colab-df-container {\n",
              "      display:flex;\n",
              "      gap: 12px;\n",
              "    }\n",
              "\n",
              "    .colab-df-convert {\n",
              "      background-color: #E8F0FE;\n",
              "      border: none;\n",
              "      border-radius: 50%;\n",
              "      cursor: pointer;\n",
              "      display: none;\n",
              "      fill: #1967D2;\n",
              "      height: 32px;\n",
              "      padding: 0 0 0 0;\n",
              "      width: 32px;\n",
              "    }\n",
              "\n",
              "    .colab-df-convert:hover {\n",
              "      background-color: #E2EBFA;\n",
              "      box-shadow: 0px 1px 2px rgba(60, 64, 67, 0.3), 0px 1px 3px 1px rgba(60, 64, 67, 0.15);\n",
              "      fill: #174EA6;\n",
              "    }\n",
              "\n",
              "    .colab-df-buttons div {\n",
              "      margin-bottom: 4px;\n",
              "    }\n",
              "\n",
              "    [theme=dark] .colab-df-convert {\n",
              "      background-color: #3B4455;\n",
              "      fill: #D2E3FC;\n",
              "    }\n",
              "\n",
              "    [theme=dark] .colab-df-convert:hover {\n",
              "      background-color: #434B5C;\n",
              "      box-shadow: 0px 1px 3px 1px rgba(0, 0, 0, 0.15);\n",
              "      filter: drop-shadow(0px 1px 2px rgba(0, 0, 0, 0.3));\n",
              "      fill: #FFFFFF;\n",
              "    }\n",
              "  </style>\n",
              "\n",
              "    <script>\n",
              "      const buttonEl =\n",
              "        document.querySelector('#df-64874b44-8691-49b8-8d6d-9f54fcb6ce86 button.colab-df-convert');\n",
              "      buttonEl.style.display =\n",
              "        google.colab.kernel.accessAllowed ? 'block' : 'none';\n",
              "\n",
              "      async function convertToInteractive(key) {\n",
              "        const element = document.querySelector('#df-64874b44-8691-49b8-8d6d-9f54fcb6ce86');\n",
              "        const dataTable =\n",
              "          await google.colab.kernel.invokeFunction('convertToInteractive',\n",
              "                                                    [key], {});\n",
              "        if (!dataTable) return;\n",
              "\n",
              "        const docLinkHtml = 'Like what you see? Visit the ' +\n",
              "          '<a target=\"_blank\" href=https://colab.research.google.com/notebooks/data_table.ipynb>data table notebook</a>'\n",
              "          + ' to learn more about interactive tables.';\n",
              "        element.innerHTML = '';\n",
              "        dataTable['output_type'] = 'display_data';\n",
              "        await google.colab.output.renderOutput(dataTable, element);\n",
              "        const docLink = document.createElement('div');\n",
              "        docLink.innerHTML = docLinkHtml;\n",
              "        element.appendChild(docLink);\n",
              "      }\n",
              "    </script>\n",
              "  </div>\n",
              "  \n",
              "    </div>\n",
              "  </div>\n",
              "  "
            ]
          },
          "metadata": {},
          "execution_count": 3
        }
      ]
    },
    {
      "cell_type": "code",
      "source": [
        "def load_image_data(image_data):\n",
        "    return Image.open(io.BytesIO(image_data))"
      ],
      "metadata": {
        "id": "pbeaC01qBYqw"
      },
      "execution_count": 4,
      "outputs": []
    },
    {
      "cell_type": "code",
      "source": [
        "label_encoder = LabelEncoder()\n",
        "cat_label = df_images['coarse_cat'].unique()\n",
        "label_encoder.fit(cat_label)\n",
        "\n",
        "class ImageDataset(torch.utils.data.Dataset):\n",
        "    def __init__(self, df, transform=None):\n",
        "        self.df = df\n",
        "        self.transform = transform\n",
        "\n",
        "    def __len__(self):\n",
        "        return len(self.df)\n",
        "\n",
        "    def __getitem__(self, idx):\n",
        "        image_data = self.df.iloc[idx]['image_data']\n",
        "        image = load_image_data(image_data)\n",
        "        label = self.df.iloc[idx]['coarse_cat']\n",
        "        label = label_encoder.transform([label])[0]\n",
        "        # Assuming coarse_cat column contains labels\n",
        "\n",
        "        if self.transform:\n",
        "            image = self.transform(image)\n",
        "\n",
        "        return image, label"
      ],
      "metadata": {
        "id": "V0vCxBsjWQvc"
      },
      "execution_count": 5,
      "outputs": []
    },
    {
      "cell_type": "markdown",
      "source": [
        "Normalización de datos"
      ],
      "metadata": {
        "id": "6YadJRtiBzJs"
      }
    },
    {
      "cell_type": "code",
      "source": [
        "data_transforms = {\n",
        "    'train': transforms.Compose([\n",
        "        transforms.RandomResizedCrop(224),\n",
        "        transforms.ToTensor(),\n",
        "        transforms.Normalize([0.485, 0.456, 0.406], [0.229, 0.224, 0.225])\n",
        "        ]),\n",
        "    'val': transforms.Compose([\n",
        "        transforms.Resize(256),\n",
        "        transforms.CenterCrop(224),\n",
        "        transforms.ToTensor(),\n",
        "        transforms.Normalize([0.485, 0.456, 0.406], [0.229, 0.224, 0.225])\n",
        "         ]),\n",
        "    'test': transforms.Compose([\n",
        "        transforms.Resize(256),\n",
        "        transforms.CenterCrop(224),\n",
        "        transforms.ToTensor(),\n",
        "        transforms.Normalize([0.485, 0.456, 0.406], [0.229, 0.224, 0.225])\n",
        "        ]),\n",
        "}\n",
        "\n",
        "# Create datasets using your ImageDataset class\n",
        "image_datasets = {\n",
        "    x: ImageDataset(df_images[df_images['dataset'] == x], transform=data_transforms[x])\n",
        "    for x in ['train', 'val', 'test']\n",
        "}\n",
        "\n",
        "# Now you can create DataLoaders using the datasets\n",
        "dataloaders = {\n",
        "    x: torch.utils.data.DataLoader(image_datasets[x], batch_size=4, shuffle=True, num_workers=4)\n",
        "    for x in ['train', 'val', 'test']\n",
        "}\n",
        "\n",
        "#build dictionary with key df_images dataset and value is the count as occurens of each\n",
        "dataset_sizes = {x: df_images[df_images['dataset'] == x].shape[0] for x in ['train', 'val', 'test']}\n",
        "\n",
        "#get only df_images that have dataset column value as train. Then keep only column coearse_cat\n",
        "class_names = df_images[df_images['dataset'] == 'train']['coarse_cat']\n",
        "\n",
        "#pick available device\n",
        "device = torch.device(\"cuda:0\" if torch.cuda.is_available() else \"cpu\")"
      ],
      "metadata": {
        "colab": {
          "base_uri": "https://localhost:8080/"
        },
        "id": "z2Rqo2uMB3Ph",
        "outputId": "2b9dc5f3-1559-4a86-c1bb-11d9d270466a"
      },
      "execution_count": 6,
      "outputs": [
        {
          "output_type": "stream",
          "name": "stderr",
          "text": [
            "/usr/local/lib/python3.10/dist-packages/torch/utils/data/dataloader.py:617: UserWarning: This DataLoader will create 4 worker processes in total. Our suggested max number of worker in current system is 2, which is smaller than what this DataLoader is going to create. Please be aware that excessive worker creation might get DataLoader running slow or even freeze, lower the worker number to avoid potential slowness/freeze if necessary.\n",
            "  warnings.warn(\n"
          ]
        }
      ]
    },
    {
      "cell_type": "code",
      "source": [
        "def train_model(model, criterion, optimizer, scheduler, num_epochs=25):\n",
        "    since = time.time()\n",
        "\n",
        "    # Create a temporary directory to save training checkpoints\n",
        "    with TemporaryDirectory() as tempdir:\n",
        "        best_model_params_path = os.path.join(tempdir, 'best_model_params.pt')\n",
        "\n",
        "        torch.save(model.state_dict(), best_model_params_path)\n",
        "        best_acc = 0.0\n",
        "\n",
        "        for epoch in range(num_epochs):\n",
        "            print(f'Epoch {epoch}/{num_epochs - 1}')\n",
        "            print('-' * 10)\n",
        "\n",
        "            # Each epoch has a training and validation phase\n",
        "            for phase in ['train', 'val']:\n",
        "                if phase == 'train':\n",
        "                    model.train()  # Set model to training mode\n",
        "                else:\n",
        "                    model.eval()   # Set model to evaluate mode\n",
        "\n",
        "                running_loss = 0.0\n",
        "                running_corrects = 0\n",
        "\n",
        "                # Iterate over data.\n",
        "                for inputs, labels in dataloaders[phase]:\n",
        "                    inputs = inputs.to(device)\n",
        "                    labels = labels.to(device)\n",
        "\n",
        "                    # zero the parameter gradients\n",
        "                    optimizer.zero_grad()\n",
        "\n",
        "                    # forward\n",
        "                    # track history if only in train\n",
        "                    with torch.set_grad_enabled(phase == 'train'):\n",
        "                        outputs = model(inputs)\n",
        "                        _, preds = torch.max(outputs, 1)\n",
        "                        loss = criterion(outputs, labels)\n",
        "\n",
        "                        # backward + optimize only if in training phase\n",
        "                        if phase == 'train':\n",
        "                            loss.backward()\n",
        "                            optimizer.step()\n",
        "\n",
        "                    # statistics\n",
        "                    running_loss += loss.item() * inputs.size(0)\n",
        "                    running_corrects += torch.sum(preds == labels.data)\n",
        "                if phase == 'train':\n",
        "                    scheduler.step()\n",
        "\n",
        "                epoch_loss = running_loss / dataset_sizes[phase]\n",
        "                epoch_acc = running_corrects.double() / dataset_sizes[phase]\n",
        "\n",
        "                print(f'{phase} Loss: {epoch_loss:.4f} Acc: {epoch_acc:.4f}')\n",
        "\n",
        "                # deep copy the model\n",
        "                if phase == 'val' and epoch_acc > best_acc:\n",
        "                    best_acc = epoch_acc\n",
        "                    torch.save(model.state_dict(), best_model_params_path)\n",
        "\n",
        "            print()\n",
        "\n",
        "        time_elapsed = time.time() - since\n",
        "        print(f'Training complete in {time_elapsed // 60:.0f}m {time_elapsed % 60:.0f}s')\n",
        "        print(f'Best val Acc: {best_acc:4f}')\n",
        "\n",
        "        # load best model weights\n",
        "        model.load_state_dict(torch.load(best_model_params_path, weights_only=True))\n",
        "    return model"
      ],
      "metadata": {
        "id": "gXqZ2c9DMaJx"
      },
      "execution_count": 7,
      "outputs": []
    },
    {
      "cell_type": "markdown",
      "source": [
        "Usamos modelo pre entrenado"
      ],
      "metadata": {
        "id": "3ZeS3gVUKE5B"
      }
    },
    {
      "cell_type": "code",
      "source": [
        "model_ft =  models.resnet18(weights='IMAGENET1K_V1')\n",
        "\n",
        "input_layers = model_ft.fc.in_features\n",
        "output_layerse = model_ft.fc.out_features\n",
        "\n",
        "print(f\"Input layers: {input_layers}\")\n",
        "print(f\"Output layers: {output_layerse}\")\n",
        "\n",
        "number_of_classes = df_images['coarse_cat'].nunique()\n",
        "print(f\"Number of classes: {number_of_classes}\")\n",
        "\n",
        "model_ft.fc = torch.nn.Linear(input_layers, number_of_classes)\n",
        "input_last_layer = model_ft.fc.in_features\n",
        "output_last_layer = model_ft.fc.out_features\n",
        "print(f\"Input layers: {input_last_layer}\")\n",
        "print(f\"Output layers: {output_last_layer}\")\n",
        "\n",
        "model_ft = model_ft.to(device)\n",
        "\n",
        "criterion = nn.CrossEntropyLoss()\n",
        "\n",
        "# Observe that all parameters are being optimized\n",
        "optimizer_ft = optim.SGD(model_ft.parameters(), lr=0.001, momentum=0.9)\n",
        "\n",
        "# Decay LR by a factor of 0.1 every 7 epochs\n",
        "exp_lr_scheduler = lr_scheduler.StepLR(optimizer_ft, step_size=7, gamma=0.1)"
      ],
      "metadata": {
        "colab": {
          "base_uri": "https://localhost:8080/"
        },
        "id": "yl1aBxU2Xv0W",
        "outputId": "dff8269c-24f7-406c-e824-2af410b7a71e"
      },
      "execution_count": 8,
      "outputs": [
        {
          "output_type": "stream",
          "name": "stdout",
          "text": [
            "Input layers: 512\n",
            "Output layers: 1000\n",
            "Number of classes: 5\n",
            "Input layers: 512\n",
            "Output layers: 5\n"
          ]
        }
      ]
    },
    {
      "cell_type": "markdown",
      "source": [
        "Fine Tuning de modelo pre entrenado"
      ],
      "metadata": {
        "id": "OUZNuqVXedFF"
      }
    },
    {
      "cell_type": "code",
      "source": [
        "model_ft = train_model(model_ft, criterion, optimizer_ft, exp_lr_scheduler,\n",
        "                       num_epochs=25)"
      ],
      "metadata": {
        "colab": {
          "base_uri": "https://localhost:8080/"
        },
        "id": "VQ3nyXgmXgB9",
        "outputId": "d3ab8d80-0471-4486-bdf0-49936a807035"
      },
      "execution_count": 9,
      "outputs": [
        {
          "output_type": "stream",
          "name": "stdout",
          "text": [
            "Epoch 0/24\n",
            "----------\n",
            "train Loss: 0.9473 Acc: 0.6326\n",
            "val Loss: 0.3418 Acc: 0.8596\n",
            "\n",
            "Epoch 1/24\n",
            "----------\n",
            "train Loss: 0.6659 Acc: 0.7407\n",
            "val Loss: 0.3164 Acc: 0.8947\n",
            "\n",
            "Epoch 2/24\n",
            "----------\n",
            "train Loss: 0.6070 Acc: 0.7911\n",
            "val Loss: 0.2189 Acc: 0.9123\n",
            "\n",
            "Epoch 3/24\n",
            "----------\n",
            "train Loss: 0.4027 Acc: 0.8607\n",
            "val Loss: 0.4256 Acc: 0.8070\n",
            "\n",
            "Epoch 4/24\n",
            "----------\n",
            "train Loss: 0.4168 Acc: 0.8593\n",
            "val Loss: 0.3246 Acc: 0.8947\n",
            "\n",
            "Epoch 5/24\n",
            "----------\n",
            "train Loss: 0.3394 Acc: 0.8800\n",
            "val Loss: 0.2240 Acc: 0.9298\n",
            "\n",
            "Epoch 6/24\n",
            "----------\n",
            "train Loss: 0.4126 Acc: 0.8593\n",
            "val Loss: 0.9467 Acc: 0.7018\n",
            "\n",
            "Epoch 7/24\n",
            "----------\n",
            "train Loss: 0.2737 Acc: 0.9081\n",
            "val Loss: 0.4016 Acc: 0.8421\n",
            "\n",
            "Epoch 8/24\n",
            "----------\n",
            "train Loss: 0.1923 Acc: 0.9319\n",
            "val Loss: 0.3831 Acc: 0.8246\n",
            "\n",
            "Epoch 9/24\n",
            "----------\n",
            "train Loss: 0.1376 Acc: 0.9511\n",
            "val Loss: 0.2484 Acc: 0.8947\n",
            "\n",
            "Epoch 10/24\n",
            "----------\n",
            "train Loss: 0.1941 Acc: 0.9348\n",
            "val Loss: 0.4405 Acc: 0.8246\n",
            "\n",
            "Epoch 11/24\n",
            "----------\n",
            "train Loss: 0.1606 Acc: 0.9467\n",
            "val Loss: 0.4640 Acc: 0.8421\n",
            "\n",
            "Epoch 12/24\n",
            "----------\n",
            "train Loss: 0.1233 Acc: 0.9600\n",
            "val Loss: 0.2467 Acc: 0.8772\n",
            "\n",
            "Epoch 13/24\n",
            "----------\n",
            "train Loss: 0.1890 Acc: 0.9541\n",
            "val Loss: 0.4717 Acc: 0.7895\n",
            "\n",
            "Epoch 14/24\n",
            "----------\n",
            "train Loss: 0.1424 Acc: 0.9481\n",
            "val Loss: 0.2844 Acc: 0.8947\n",
            "\n",
            "Epoch 15/24\n",
            "----------\n",
            "train Loss: 0.1708 Acc: 0.9407\n",
            "val Loss: 0.3399 Acc: 0.8772\n",
            "\n",
            "Epoch 16/24\n",
            "----------\n",
            "train Loss: 0.1995 Acc: 0.9274\n",
            "val Loss: 0.2416 Acc: 0.9123\n",
            "\n",
            "Epoch 17/24\n",
            "----------\n",
            "train Loss: 0.1658 Acc: 0.9511\n",
            "val Loss: 0.2409 Acc: 0.9123\n",
            "\n",
            "Epoch 18/24\n",
            "----------\n",
            "train Loss: 0.1499 Acc: 0.9541\n",
            "val Loss: 0.2191 Acc: 0.8947\n",
            "\n",
            "Epoch 19/24\n",
            "----------\n",
            "train Loss: 0.2370 Acc: 0.9363\n",
            "val Loss: 0.2371 Acc: 0.9123\n",
            "\n",
            "Epoch 20/24\n",
            "----------\n",
            "train Loss: 0.1818 Acc: 0.9422\n",
            "val Loss: 0.3044 Acc: 0.8772\n",
            "\n",
            "Epoch 21/24\n",
            "----------\n",
            "train Loss: 0.1892 Acc: 0.9319\n",
            "val Loss: 0.2478 Acc: 0.8947\n",
            "\n",
            "Epoch 22/24\n",
            "----------\n",
            "train Loss: 0.1316 Acc: 0.9615\n",
            "val Loss: 0.2610 Acc: 0.8772\n",
            "\n",
            "Epoch 23/24\n",
            "----------\n",
            "train Loss: 0.1221 Acc: 0.9600\n",
            "val Loss: 0.3592 Acc: 0.8596\n",
            "\n",
            "Epoch 24/24\n",
            "----------\n",
            "train Loss: 0.1742 Acc: 0.9556\n",
            "val Loss: 0.2470 Acc: 0.9123\n",
            "\n",
            "Training complete in 2m 49s\n",
            "Best val Acc: 0.929825\n"
          ]
        }
      ]
    },
    {
      "cell_type": "markdown",
      "source": [
        "Funcion de predicción"
      ],
      "metadata": {
        "id": "VZ9WLZmOewUX"
      }
    },
    {
      "cell_type": "code",
      "source": [
        "def predict_item(model, image_data):\n",
        "    was_training = model.training\n",
        "    model.eval()\n",
        "    img_t = data_transforms['test'](load_image_data(image_data))\n",
        "    img = img_t.unsqueeze(0)\n",
        "    img = img.to(device)\n",
        "    with torch.no_grad():\n",
        "        outputs = model(img)\n",
        "        _, preds = torch.max(outputs, 1)\n",
        "        return cat_label[preds[0].item()]"
      ],
      "metadata": {
        "id": "q-GJcdBkfiS_"
      },
      "execution_count": 34,
      "outputs": []
    },
    {
      "cell_type": "code",
      "source": [
        "items_price = {'Apple':74, 'Pear': 89, 'Satsumas': 44, 'Melon': 109, 'Orange': 35}\n",
        "\n",
        "def predict_price(model, image_data):\n",
        "  return items_price[predict_item(model, image_data)]"
      ],
      "metadata": {
        "id": "NcJhCZa_njt2"
      },
      "execution_count": 11,
      "outputs": []
    },
    {
      "cell_type": "code",
      "source": [
        "def cost_function(y_pred, y_real):\n",
        "  if y_pred <= y_real:\n",
        "    return y_real - y_pred\n",
        "  return 5*(y_pred - y_real)\n"
      ],
      "metadata": {
        "id": "Duq0yhEWoJ3g"
      },
      "execution_count": 12,
      "outputs": []
    },
    {
      "cell_type": "code",
      "source": [
        "def calculate_prices_and_cost(row):\n",
        "    real_price = items_price[row['coarse_cat']]\n",
        "    predicted_cat = predict_item(model_ft, row['image_data'])\n",
        "    predicted_price = items_price[predicted_cat]\n",
        "    cost = cost_function(predicted_price, real_price)\n",
        "    return pd.Series({'predicted_cat': predicted_cat, 'real_price': real_price, 'predicted_price': predicted_price, 'cost': cost})"
      ],
      "metadata": {
        "id": "xxok08m1rKmO"
      },
      "execution_count": 13,
      "outputs": []
    },
    {
      "cell_type": "markdown",
      "source": [
        "Estimate total cost"
      ],
      "metadata": {
        "id": "XfghTrwgrNO3"
      }
    },
    {
      "cell_type": "code",
      "source": [
        "df_test = df_images[df_images['dataset'] == 'test'].copy()\n",
        "df_test[['predicted_cat','real_price', 'predicted_price', 'cost']] = df_test.apply(calculate_prices_and_cost, axis=1)\n",
        "total_cost = df_test['cost'].sum()\n",
        "print(f\"Resultado de funcion de costo para dataset de prueba: ${total_cost}\")"
      ],
      "metadata": {
        "colab": {
          "base_uri": "https://localhost:8080/"
        },
        "id": "b4_tKOYpkbSd",
        "outputId": "b8042c80-09f9-4a0b-c140-33f1b821eb17"
      },
      "execution_count": 35,
      "outputs": [
        {
          "output_type": "stream",
          "name": "stdout",
          "text": [
            "Resultado de funcion de costo para dataset de prueba: $34802\n"
          ]
        }
      ]
    },
    {
      "cell_type": "code",
      "source": [
        "#count when real_price is greater than predicted_price\n",
        "count_lower_price = df_test[df_test['real_price'] > df_test['predicted_price']].shape[0]\n",
        "count_correct_price = df_test[df_test['real_price'] == df_test['predicted_price']].shape[0]\n",
        "count_higher_price = df_test[df_test['real_price'] < df_test['predicted_price']].shape[0]\n",
        "\n",
        "print(f\"Cantidad de predicciones correctas: {count_correct_price}\")\n",
        "print(f\"Cantidad de predicciones menores al precio real: {count_lower_price}\")\n",
        "print(f\"Cantidad de predicciones mayores al precio real: {count_higher_price}\")"
      ],
      "metadata": {
        "colab": {
          "base_uri": "https://localhost:8080/"
        },
        "id": "kD3FexjsrhwS",
        "outputId": "512df48b-ac9a-4c3a-edad-4da499c251b2"
      },
      "execution_count": 15,
      "outputs": [
        {
          "output_type": "stream",
          "name": "stdout",
          "text": [
            "Cantidad de predicciones correctas: 648\n",
            "Cantidad de predicciones menores al precio real: 390\n",
            "Cantidad de predicciones mayores al precio real: 284\n"
          ]
        }
      ]
    },
    {
      "cell_type": "code",
      "source": [
        "count_lower_price_by_category = df_test[df_test['real_price'] > df_test['predicted_price']].groupby('coarse_cat')['coarse_cat'].count()\n",
        "print(count_lower_price_by_category)\n",
        "\n",
        "count_higher_price_by_category = df_test[df_test['real_price'] < df_test['predicted_price']].groupby('coarse_cat')['coarse_cat'].count()\n",
        "print(count_higher_price_by_category)\n",
        "\n",
        "count_correct_price_by_category = df_test[df_test['real_price'] == df_test['predicted_price']].groupby('coarse_cat')['coarse_cat'].count()\n",
        "print(count_correct_price_by_category)\n"
      ],
      "metadata": {
        "colab": {
          "base_uri": "https://localhost:8080/"
        },
        "id": "j8yknFlUtNIY",
        "outputId": "151835ca-f04a-4937-8be4-ce38f1cc33d3"
      },
      "execution_count": 16,
      "outputs": [
        {
          "output_type": "stream",
          "name": "stdout",
          "text": [
            "coarse_cat\n",
            "Apple         4\n",
            "Melon       304\n",
            "Pear         20\n",
            "Satsumas     62\n",
            "Name: coarse_cat, dtype: int64\n",
            "coarse_cat\n",
            "Apple        14\n",
            "Orange       72\n",
            "Pear        192\n",
            "Satsumas      6\n",
            "Name: coarse_cat, dtype: int64\n",
            "coarse_cat\n",
            "Apple       534\n",
            "Melon         2\n",
            "Orange       40\n",
            "Pear          4\n",
            "Satsumas     68\n",
            "Name: coarse_cat, dtype: int64\n"
          ]
        }
      ]
    },
    {
      "cell_type": "code",
      "source": [
        "# Calculate cost by category\n",
        "cost_by_category = df_test.groupby('coarse_cat')['cost'].sum()\n",
        "cost_by_category"
      ],
      "metadata": {
        "colab": {
          "base_uri": "https://localhost:8080/",
          "height": 272
        },
        "id": "3xY-RaQAkD1Z",
        "outputId": "23161a19-5361-49db-92ca-ef992f13fbbb"
      },
      "execution_count": 43,
      "outputs": [
        {
          "output_type": "execute_result",
          "data": {
            "text/plain": [
              "coarse_cat\n",
              "Apple        2606\n",
              "Melon        6320\n",
              "Orange       4840\n",
              "Pear        19578\n",
              "Satsumas     1458\n",
              "Name: cost, dtype: int64"
            ],
            "text/html": [
              "<div>\n",
              "<style scoped>\n",
              "    .dataframe tbody tr th:only-of-type {\n",
              "        vertical-align: middle;\n",
              "    }\n",
              "\n",
              "    .dataframe tbody tr th {\n",
              "        vertical-align: top;\n",
              "    }\n",
              "\n",
              "    .dataframe thead th {\n",
              "        text-align: right;\n",
              "    }\n",
              "</style>\n",
              "<table border=\"1\" class=\"dataframe\">\n",
              "  <thead>\n",
              "    <tr style=\"text-align: right;\">\n",
              "      <th></th>\n",
              "      <th>cost</th>\n",
              "    </tr>\n",
              "    <tr>\n",
              "      <th>coarse_cat</th>\n",
              "      <th></th>\n",
              "    </tr>\n",
              "  </thead>\n",
              "  <tbody>\n",
              "    <tr>\n",
              "      <th>Apple</th>\n",
              "      <td>2606</td>\n",
              "    </tr>\n",
              "    <tr>\n",
              "      <th>Melon</th>\n",
              "      <td>6320</td>\n",
              "    </tr>\n",
              "    <tr>\n",
              "      <th>Orange</th>\n",
              "      <td>4840</td>\n",
              "    </tr>\n",
              "    <tr>\n",
              "      <th>Pear</th>\n",
              "      <td>19578</td>\n",
              "    </tr>\n",
              "    <tr>\n",
              "      <th>Satsumas</th>\n",
              "      <td>1458</td>\n",
              "    </tr>\n",
              "  </tbody>\n",
              "</table>\n",
              "</div><br><label><b>dtype:</b> int64</label>"
            ]
          },
          "metadata": {},
          "execution_count": 43
        }
      ]
    },
    {
      "cell_type": "code",
      "source": [
        "from sklearn.metrics import confusion_matrix\n",
        "import seaborn as sns\n",
        "import matplotlib.pyplot as plt\n",
        "\n",
        "cm = confusion_matrix(df_test['coarse_cat'], df_test['predicted_cat'], labels=df_test['coarse_cat'].unique())\n",
        "\n",
        "# Create a heatmap to visualize the confusion matrix\n",
        "plt.figure(figsize=(8, 6))\n",
        "sns.heatmap(cm, annot=True, fmt='d', cmap='Blues', xticklabels=df_test['coarse_cat'].unique(), yticklabels=df_test['coarse_cat'].unique())\n",
        "\n",
        "# Add labels and title\n",
        "plt.xlabel('Predicted Categories')\n",
        "plt.ylabel('True Categories')\n",
        "plt.title('Confusion Matrix: Coarse Category vs Predicted Category')\n",
        "\n",
        "# Show the plot\n",
        "plt.show()\n"
      ],
      "metadata": {
        "colab": {
          "base_uri": "https://localhost:8080/",
          "height": 564
        },
        "id": "vy_s2YDdwN2h",
        "outputId": "7c900716-9b0d-47f7-b21a-d71bd0f50cad"
      },
      "execution_count": 17,
      "outputs": [
        {
          "output_type": "display_data",
          "data": {
            "text/plain": [
              "<Figure size 800x600 with 2 Axes>"
            ],
            "image/png": "[encoded data removed]"
          },
          "metadata": {}
        }
      ]
    },
    {
      "cell_type": "code",
      "source": [
        "from sklearn.metrics import recall_score\n",
        "\n",
        "# Calculate recall for each category\n",
        "recall_per_category = recall_score(df_test['coarse_cat'], df_test['predicted_cat'], average=None, labels=df_test['coarse_cat'].unique())\n",
        "\n",
        "# Print the recall for each category\n",
        "for i, category in enumerate(df_test['coarse_cat'].unique()):\n",
        "    print(f\"Recall for category '{category}': {round(recall_per_category[i], 2)}\")\n",
        "\n",
        "accuracy = round(np.trace(cm) / np.sum(cm), 2)\n",
        "print(f\"Accuracy: {accuracy}\")"
      ],
      "metadata": {
        "colab": {
          "base_uri": "https://localhost:8080/"
        },
        "id": "x0gACr96hgI3",
        "outputId": "7a20948f-13c7-4b82-cc94-6b3d560dd17e"
      },
      "execution_count": 42,
      "outputs": [
        {
          "output_type": "stream",
          "name": "stdout",
          "text": [
            "Recall for category 'Apple': 0.97\n",
            "Recall for category 'Pear': 0.02\n",
            "Recall for category 'Satsumas': 0.5\n",
            "Recall for category 'Melon': 0.01\n",
            "Recall for category 'Orange': 0.36\n",
            "Accuracy: 0.49\n"
          ]
        }
      ]
    },
    {
      "cell_type": "code",
      "source": [
        "# Get unique categories and their positions\n",
        "categories = count_lower_price_by_category.index.union(count_higher_price_by_category.index).union(count_correct_price_by_category.index)\n",
        "x_pos = np.arange(len(categories))\n",
        "\n",
        "# Create bar chart\n",
        "bar_width = 0.25  # Adjust bar width if needed\n",
        "plt.figure(figsize=(12, 6))\n",
        "\n",
        "plt.bar(x_pos - bar_width, count_lower_price_by_category.reindex(categories).fillna(0), width=bar_width, label='Lower Price')\n",
        "plt.bar(x_pos, count_higher_price_by_category.reindex(categories).fillna(0), width=bar_width, label='Higher Price')\n",
        "plt.bar(x_pos + bar_width, count_correct_price_by_category.reindex(categories).fillna(0), width=bar_width, label='Correct Price')\n",
        "\n",
        "# Set labels and title\n",
        "plt.xlabel(\"Coarse Category\")\n",
        "plt.ylabel(\"Count\")\n",
        "plt.title(\"Comparison of Predicted Prices with Real Prices\")\n",
        "plt.xticks(x_pos, categories, rotation=45, ha=\"right\")\n",
        "plt.legend()\n",
        "plt.tight_layout()\n",
        "plt.show()"
      ],
      "metadata": {
        "colab": {
          "base_uri": "https://localhost:8080/",
          "height": 607
        },
        "id": "AggoFWj8uzDe",
        "outputId": "fba60d13-527e-4584-899d-ffc6a3262b3d"
      },
      "execution_count": 18,
      "outputs": [
        {
          "output_type": "display_data",
          "data": {
            "text/plain": [
              "<Figure size 1200x600 with 1 Axes>"
            ],
            "image/png": "[encoded data removed]"
          },
          "metadata": {}
        }
      ]
    },
    {
      "cell_type": "code",
      "source": [
        "import pandas as pd\n",
        "import matplotlib.pyplot as plt\n",
        "\n",
        "confusion_df = pd.crosstab(df_test['coarse_cat'], df_test['predicted_cat'])\n",
        "\n",
        "confusion_df.plot(kind='bar', stacked=True, figsize=(10, 7), colormap=\"tab20\")\n",
        "\n",
        "plt.xlabel(\"Fruit Categories\")\n",
        "plt.ylabel(\"Count\")\n",
        "plt.title(\"Predicted vs Real Categories\")\n",
        "plt.legend(title=\"Predicted Categories\", bbox_to_anchor=(1.05, 1), loc='upper left')\n",
        "\n",
        "plt.tight_layout()\n",
        "plt.show()"
      ],
      "metadata": {
        "colab": {
          "base_uri": "https://localhost:8080/",
          "height": 707
        },
        "id": "9ckG1kIHZNAf",
        "outputId": "0cae2032-9883-4220-c117-563992be94e9"
      },
      "execution_count": 20,
      "outputs": [
        {
          "output_type": "display_data",
          "data": {
            "text/plain": [
              "<Figure size 1000x700 with 1 Axes>"
            ],
            "image/png": "[encoded data removed]"
          },
          "metadata": {}
        }
      ]
    }
  ]
}